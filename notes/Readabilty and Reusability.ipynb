{
 "cells": [
  {
   "cell_type": "markdown",
   "id": "7c66846f",
   "metadata": {
    "slideshow": {
     "slide_type": "slide"
    }
   },
   "source": [
    "# Readability in Python\n",
    "\n",
    "Code which is reusable, should be readable. That is, it should be easily understood by other users of your code.\n",
    "\n",
    "In this document, we cover some ways to help make Python code more readable."
   ]
  },
  {
   "cell_type": "markdown",
   "id": "fae248ba",
   "metadata": {
    "slideshow": {
     "slide_type": "slide"
    }
   },
   "source": [
    "## PEP 8 - Style Guide for Python Code\n",
    "\n",
    "[PEP 8](https://pep8.org/) is a style guide for coding in Python.\n",
    "It covers many aspects of coding like naming conventions, use of whitespace and inline comments.\n",
    "\n",
    "Following these guidelines can make code more readable, as these can provide information to the user (particularly for naming convention), and give the code a cleaner look.\n",
    "\n",
    "We highlight naming conventions here, as these are particularly informative about the nature of a variable.\n",
    "\n",
    "\n",
    "\n"
   ]
  },
  {
   "cell_type": "markdown",
   "id": "c4f6fcf0",
   "metadata": {
    "slideshow": {
     "slide_type": "slide"
    }
   },
   "source": [
    "### Naming conventions\n",
    "\n",
    "There are many different styles to naming variables in programming:\n",
    "\n",
    "| Convention                                    | Example         |\n",
    "|-----------------------------------------------|-----------------|\n",
    "| **single lowercase letter**                   | b               |\n",
    "| **SINGLE UPPERCASE LETTER**                   | B               |\n",
    "| **lowercase**  (single word)                  | method          |\n",
    "| **lower_case_with_underscores** (snake case)  | my_method       |\n",
    "| **UPPERCASE** (single word)                   | VAR             |\n",
    "| **UPPERCASE_WITH_UNDERSCORES**                | MY_VAR          |\n",
    "| **CapitalizedWords** (CamelCase)              | MyVar           |\n",
    "| **mixedCase** (first letter is lowercase)     | myVar           |\n"
   ]
  },
  {
   "cell_type": "markdown",
   "id": "b763d25c",
   "metadata": {
    "slideshow": {
     "slide_type": "subslide"
    }
   },
   "source": [
    "PEP 8 specifies the naming conventions which should be used for different types of objects in Python:\n",
    "\n",
    "| Type              | Conventions                                                       | Examples             |\n",
    "|-------------------|-------------------------------------------------------------------|----------------------|\n",
    "| variable          | single lowercase letter, lowercase or lowercase_with_underscores  | x, queue, dep_queue  |\n",
    "| functions/methods | lowercase, lowercase_with_underscores                             | split, add_two       |\n",
    "| class             | CamelCase                                                         | Model, StochModel    |\n",
    "| constant          | UPPERCASE, UPPERCASE_WITH_UNDERSCORES                             | PI, GOLDEN_RATIO     |\n",
    "| module            | (short) lowercase, lowercase_with_underscores                     | stoch_model.py       |\n",
    "| package           | lowercase (no separation of words)                                | changepoints         |\n"
   ]
  },
  {
   "cell_type": "markdown",
   "id": "e5548a8a",
   "metadata": {
    "slideshow": {
     "slide_type": "subslide"
    }
   },
   "source": [
    "### Meaningful naming\n",
    "\n",
    "It is generally a good idea to give objects short descriptive or meaningful names, for example *waiting_times* and *opt_value*, rather than generic names such as *my_function*, or *var*."
   ]
  },
  {
   "cell_type": "markdown",
   "id": "df2d35ba",
   "metadata": {
    "slideshow": {
     "slide_type": "slide"
    }
   },
   "source": [
    "## Type Hints\n",
    "\n",
    "One of Python's core features is that types are not checked when they are used with a function.\n",
    "This allows code to be used in a very flexible way, but has the downside that it is not always clear what type of arguments should be used with a function, or what types a function returns.\n",
    "\n",
    "Modern versions of Python allow one to use **type hints**, which in effect allow one to document what types one should use with a function."
   ]
  },
  {
   "cell_type": "markdown",
   "id": "ce3093d9",
   "metadata": {
    "slideshow": {
     "slide_type": "fragment"
    }
   },
   "source": [
    "```python\n",
    "import math\n",
    "\n",
    "def circumference(radius: float) -> float:\n",
    "    return 2 * math.pi * radius\n",
    "```"
   ]
  },
  {
   "cell_type": "markdown",
   "id": "def2223e",
   "metadata": {
    "slideshow": {
     "slide_type": "subslide"
    }
   },
   "source": [
    "Like with docstrings (see below), type hints are read by Python, and are displayed with documentation.\n",
    "However, note that type hints are not usually enforced. For example, in the function above, if you used an `int` with the function, there would be no error.\n",
    "\n",
    "Collections like lists or dictionaries, which can contain different types, can be parameterized with square brackets. For example `list[int]` is a list of integers. `dict[int, str]` is a dictionary with integer keys and values which are strings. `tuple[int, float]` are tuples of length 2, consisting of an integer and a floating point number. See the article below for more information on type hints.\n",
    "\n",
    "For complicated types, it is possible to create a **type alias** to simplify your annotations.\n",
    "The following demonstrates this for a `Callable` type, which can be used to represent functions:"
   ]
  },
  {
   "cell_type": "code",
   "execution_count": 2,
   "id": "4fd6783a",
   "metadata": {},
   "outputs": [],
   "source": [
    "from typing import Callable\n",
    "\n",
    "Strategy = Callable[[int, int, int], bool] # represents functions with three integer arguments, which return bool"
   ]
  },
  {
   "cell_type": "markdown",
   "id": "a3d8ac35",
   "metadata": {
    "slideshow": {
     "slide_type": "slide"
    }
   },
   "source": [
    "## Commenting and Docstrings\n",
    "\n",
    "Informative naming and clean code will only get you solve far with regards to readability.\n",
    "Sometimes it is necessary to explain your code with documentation.\n",
    "Code can be documented with **comments** and **docstrings**.\n",
    "\n",
    "A comment is begun on a particular with a `#` character in Python.\n",
    "When your code is read, Python simply ignores anything after `#`.\n",
    "Comments are particularly helpful for users who need to understand how your code works, for example, those who need to modify it.\n",
    "The following example uses comments to describe the purpose of decision variables in an optimization problem."
   ]
  },
  {
   "cell_type": "markdown",
   "id": "fdd786f2",
   "metadata": {
    "slideshow": {
     "slide_type": "subslide"
    }
   },
   "source": [
    "```python\n",
    "# Decision variables representing alignment of products in box\n",
    "delta_idxs = itertools.product(range(n_prod), H, alpha)\n",
    "\n",
    "delta = pulp.LpVariable.dicts(\"delta\", delta_idxs, lowBound=0, upBound=1,\n",
    "                            cat=pulp.LpInteger)\n",
    "\n",
    "# Coordinates of centres of gravity for each product\n",
    "x_idxs = itertools.product(range(n_prod), H)\n",
    "x = pulp.LpVariable.dicts(\"x\", x_idxs, lowBound=0)\n",
    "```"
   ]
  },
  {
   "cell_type": "markdown",
   "id": "f4db4c4e",
   "metadata": {
    "slideshow": {
     "slide_type": "subslide"
    }
   },
   "source": [
    "Docstrings are Python strings which are attached to an object, and which explain that object's purpose or usage.\n",
    "As they Python objects, they can be printed/displayed as and needed in a Python session, for example using the `help` function.\n",
    "In particular, IDEs can detect docstrings and display documentation as you are writing code.\n",
    "\n",
    "Docstrings are typically created by enclosing them in triple quotation marks after an object is declared.\n",
    "For a function, this is done as follows:"
   ]
  },
  {
   "cell_type": "markdown",
   "id": "4a95ac19",
   "metadata": {
    "slideshow": {
     "slide_type": "fragment"
    }
   },
   "source": [
    "```python\n",
    "def padberg_model(order: list[Product], box: Box, use_knapsack: bool):\n",
    "  \"\"\"Constructs Padberg optimization model for packing small boxes in larger box.\"\"\"\n",
    "  prob = pulp.LpProblem(\"Padberg\", pulp.LpMaximize)\n",
    "  ...\n",
    "```"
   ]
  },
  {
   "cell_type": "markdown",
   "id": "1a86d92b",
   "metadata": {
    "slideshow": {
     "slide_type": "subslide"
    }
   },
   "source": [
    "Some functions or classes need multiline comments to adaquately explain a function or class.\n",
    "Information on arguments and return values are often also included in docstrings."
   ]
  },
  {
   "cell_type": "markdown",
   "id": "829aa990",
   "metadata": {
    "slideshow": {
     "slide_type": "fragment"
    }
   },
   "source": [
    "```python\n",
    "def landing_time(prev_comp: float, min_sep: float, eta: float) -> Tuple[float, int]:\n",
    "    \"\"\"\n",
    "    Calculates landing time and whether flight went straight into service on reaching runway threshold.\n",
    "\n",
    "    Arguments\n",
    "    ---------\n",
    "    prev_comp: time previous aircraft finished landed\n",
    "    min_sep: minimum separation time between current and previous aircraft\n",
    "    eta: estimated time of arrival to runway threshold\n",
    "\n",
    "    Returns:\n",
    "    --------\n",
    "    t_out: time flight is finished being served\n",
    "    straight_into_service: indicates whether flight enters service immediately on joining queue\n",
    "    \"\"\"\n",
    "    ...\n",
    "```"
   ]
  },
  {
   "cell_type": "markdown",
   "id": "bf399f31",
   "metadata": {
    "slideshow": {
     "slide_type": "fragment"
    }
   },
   "source": [
    "There are multiple styles one can use for longer docstrings.\n",
    "See the reference below for more details."
   ]
  },
  {
   "cell_type": "markdown",
   "id": "db35b1ee",
   "metadata": {
    "slideshow": {
     "slide_type": "slide"
    }
   },
   "source": [
    "# References\n",
    "\n",
    "- The following is a more condensed article on PEP8: <https://realpython.com/python-pep8/>\n",
    "- This article has more details on type hints and type checking in Python: <https://realpython.com/python-type-checking/>\n",
    "- The following article discusses documentation in Python in more detail: <https://realpython.com/documenting-python-code/>\n",
    "- The following is a coding style guide for R: <https://style.tidyverse.org/>"
   ]
  }
 ],
 "metadata": {
  "celltoolbar": "Slideshow",
  "kernelspec": {
   "display_name": "Python 3",
   "language": "python",
   "name": "python3"
  },
  "language_info": {
   "codemirror_mode": {
    "name": "ipython",
    "version": 3
   },
   "file_extension": ".py",
   "mimetype": "text/x-python",
   "name": "python",
   "nbconvert_exporter": "python",
   "pygments_lexer": "ipython3",
   "version": "3.8.10"
  }
 },
 "nbformat": 4,
 "nbformat_minor": 5
}
