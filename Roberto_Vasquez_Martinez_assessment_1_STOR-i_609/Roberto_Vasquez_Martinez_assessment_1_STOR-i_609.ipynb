{
 "cells": [
  {
   "cell_type": "markdown",
   "metadata": {},
   "source": [
    "# Generic Backtracking Algorithm"
   ]
  },
  {
   "cell_type": "markdown",
   "metadata": {},
   "source": [
    "All the code for this assessment is the module `lib_assessment_1_STOR_i.py` in order to improve the readability of this notebook. The module should be in the same directory as this notebook to run properly.\n",
    "\n",
    "In the following code cell we import the corresponding module."
   ]
  },
  {
   "cell_type": "code",
   "execution_count": 1,
   "metadata": {},
   "outputs": [],
   "source": [
    "import lib_assessment_1_STOR_i_609\n",
    "from lib_assessment_1_STOR_i_609 import * "
   ]
  },
  {
   "cell_type": "markdown",
   "metadata": {},
   "source": [
    "For *Typing Hint* the only dependency of this module is `typing`. Besides that we only use base `Python 3.11.4`. "
   ]
  },
  {
   "cell_type": "markdown",
   "metadata": {},
   "source": [
    "In the following cell, we show the `backtrack` generic function that we will use to solve both assessment problems."
   ]
  },
  {
   "cell_type": "code",
   "execution_count": 2,
   "metadata": {},
   "outputs": [],
   "source": [
    "#################################\n",
    "# Generic Backtracking function #\n",
    "#################################\n",
    "def backtrack(P: Type, c) -> None:\n",
    "    \"\"\"Generic backtrack function\n",
    "\n",
    "    Args:\n",
    "        P (Class): A Class that implements the problem to solve\n",
    "        c (_type_): Format of the candidates corresponding to the class P\n",
    "    \"\"\"\n",
    "    # Stopping conditions\n",
    "    if P.reject(c):\n",
    "        return\n",
    "    if P.accept(c):\n",
    "        P.output(c)\n",
    "        return\n",
    "    s = P.first(c)  # descendent\n",
    "    backtrack(P, s)  # Recur on descendent\n",
    "    s = P.next(c)  # brother node\n",
    "    backtrack(P, s)  # Recur on brother node"
   ]
  },
  {
   "cell_type": "markdown",
   "metadata": {},
   "source": [
    "In the following cell we show that this function definitely works. We will explain the `Partition` class later in the report. "
   ]
  },
  {
   "cell_type": "code",
   "execution_count": 3,
   "metadata": {},
   "outputs": [
    {
     "data": {
      "text/plain": [
       "[[5], [4, 1], [3, 2], [3, 1, 1], [2, 2, 1], [2, 1, 1, 1], [1, 1, 1, 1, 1]]"
      ]
     },
     "execution_count": 3,
     "metadata": {},
     "output_type": "execute_result"
    }
   ],
   "source": [
    "P_example = Partition(5)\n",
    "backtrack(P_example,[[],5,5])\n",
    "P_example.partitions"
   ]
  },
  {
   "cell_type": "markdown",
   "metadata": {},
   "source": [
    "This implementation is a little bit different from the one suggested in https://en.wikipedia.org/wiki/Backtracking. The main difference is that we avoid to do a loop in order to be more efficient and reduce the function calls (Python and R are languages that particularly struggle with recursive function calls). \n",
    "\n",
    "Here `P` is a python class that abstracts the problem to solve through the *backtracking algorithm* and `c` is the current to state explore. Now we describe briefly each of the methods that the class or problem `P` should have. \n",
    "1. `reject`: Returns `True` if that candidate `c` leads to an infeasible solution, otherwise returns `False`\n",
    "2. `accept`: Return `True` if candidate `c` is a solution, otherwise returns `False`.\n",
    "3. The `output` method saves the accepted candidate in a class attribute of `P`."
   ]
  },
  {
   "cell_type": "markdown",
   "metadata": {},
   "source": [
    "We could think backtraking as a way to come back in the tree of possible candidates that conform the problem. \n",
    "\n",
    "Given a candidate `c`, the methods `first` and `next` moves to an adjacent candidate in the following way:\n",
    "1. `first` method generated the next candidate or child node corresponding to the input. This corresponds to a *depth search*. \n",
    "2. After a depth serch, the recursion come back to the current candidate and the `next` method obtains the brother node corresponding to that extension. This could be interpreted as a *breadth search*."
   ]
  },
  {
   "cell_type": "markdown",
   "metadata": {},
   "source": [
    "In a nutshell:\n",
    "- The implementation of backtracking presented use a depth and breadth search approach to reduce function calls. \n",
    "- The abstract tree of candidate and all the methods presented here should be coded in a class `P` that defines the problem. Given that class with all of this methods and the heuristic search, the code is *reusable*."
   ]
  },
  {
   "cell_type": "markdown",
   "metadata": {},
   "source": [
    "Finally, in order to solve both problems we incorporate in the class `P` the method `solve` which initialize the above `backtrack` function with the appropiate initial conditions. \n",
    "\n",
    "In addition, we incorporate the method `print` which prints the corresponding results after solving the problem. We recommend to use this method in small instances of the problems."
   ]
  },
  {
   "cell_type": "markdown",
   "metadata": {},
   "source": [
    "#  Integer Partition Problem"
   ]
  },
  {
   "cell_type": "markdown",
   "metadata": {},
   "source": [
    "For solving the *Integer Partition* problem of a number $n$ we show what we understand as a candidate `c`. We abstract the candidate as a list with three elements, for example, for number $n=5$ a possible candidate is\n",
    "$$c = [[3,1],1,1],$$\n",
    "where \n",
    "- The first entry $[3,1]$ represents current partition. \n",
    "- The second entry $1$ represents the difference between the target number $n=5$ and the sum of the current partition.\n",
    "- The third entry represents an upper bound for the numbers that could be added to the current partition list. In this case $1$. This entry allows to keep an order of the elements added to the partition, therefore we avoid duplicates in the candidates tree exploration.\n",
    "\n",
    "The `first` method in this case represents the following transition\n",
    "$$[[3,1],1,1]\\rightarrow [[3,1,1],0,1]. $$\n",
    "\n",
    "Because $[3,1,1]$ is a valid partition we return in the function call stack saving this partition in the `output`. \n",
    "\n",
    "After accepting, the `next` method generate the next candidate in breadth, then we have the following transition:\n",
    "$$[[3,1],1,1]\\rightarrow [[3,1],1,0],$$\n",
    "i.e., we quit the last added to list, update the difference with the target number $n=5$ and reduce the available upper bound for the numbers that we could add. \n",
    "\n",
    "As remark, in the transitions between candidates, we overwrite the information as possible in order to be efficient in memory, that is the reason we use the `backtrack` function inside the class.\n",
    "\n",
    "The `rejection` and `accept` methods allows to backtrack to candidates where we could continue to explore, in this case, we backtrack to $[[],5,2]$. \n"
   ]
  },
  {
   "cell_type": "markdown",
   "metadata": {},
   "source": [
    "The name of the class implemented as above is `Partition`. In the following cell of code we solve the partitions for target number $n=5$"
   ]
  },
  {
   "cell_type": "code",
   "execution_count": 4,
   "metadata": {},
   "outputs": [],
   "source": [
    "P = Partition(n = 5)\n",
    "P.solve()"
   ]
  },
  {
   "cell_type": "markdown",
   "metadata": {},
   "source": [
    "We print the partitions"
   ]
  },
  {
   "cell_type": "code",
   "execution_count": 5,
   "metadata": {},
   "outputs": [
    {
     "name": "stdout",
     "output_type": "stream",
     "text": [
      "[5]\n",
      "[4, 1]\n",
      "[3, 2]\n",
      "[3, 1, 1]\n",
      "[2, 2, 1]\n",
      "[2, 1, 1, 1]\n",
      "[1, 1, 1, 1, 1]\n"
     ]
    }
   ],
   "source": [
    "P.print() "
   ]
  },
  {
   "cell_type": "markdown",
   "metadata": {},
   "source": [
    "With this implementation we could calculate the partitions for $n=80$ in approximately 2 minutes."
   ]
  },
  {
   "cell_type": "code",
   "execution_count": 6,
   "metadata": {},
   "outputs": [],
   "source": [
    "n = 10 # try a big number, for n=80 the time is less than 2 minutes\n",
    "P_large_instance = Partition(n)\n",
    "P_large_instance.solve()"
   ]
  },
  {
   "cell_type": "markdown",
   "metadata": {},
   "source": [
    "We print the number of partitions to validate"
   ]
  },
  {
   "cell_type": "code",
   "execution_count": 7,
   "metadata": {},
   "outputs": [
    {
     "name": "stdout",
     "output_type": "stream",
     "text": [
      "The number of partions of 10 is: 42\n"
     ]
    }
   ],
   "source": [
    "print(f\"The number of partions of {n} is: {len(P_large_instance.partitions)}\")"
   ]
  },
  {
   "cell_type": "markdown",
   "metadata": {},
   "source": [
    "# Gray code"
   ]
  },
  {
   "cell_type": "markdown",
   "metadata": {},
   "source": [
    "For solving the *Gray code* problem of $n$ bits we should show what we understand as a candidate `c`. We abstract the candidate as a list with two elements, for example, for $n=3$ bits a candidate could be \n",
    "$$c = [[0,1,3],1],$$\n",
    "where \n",
    "- The first entry $[0,1,3]$ the current Gray code in decimal representation. In this case we have an incomplete code, we will add elements during the exploration. \n",
    "- The second entry $1$ represents an element in $\\mathbb{Z}/n\\mathbb{Z}$ we use for adding elements to the code in the methods `first` and `next`.\n",
    "\n",
    "Let $c=[[c_1,\\dots,c_{k}],r_c]$ with $r_c\\in \\mathbb{Z}/n\\mathbb{Z}$.\n",
    "\n",
    "The `first` method define a new candidate $s$ in depth as follows\n",
    "$$\\quad c_{k+1}=c_k\\wedge(1<< 0),$$\n",
    "where `^` is the `XOR` operator and `<<` is the left shift operator, thus $s=[[c_1,\\dots,c_k,c_{k+1}],0]$\n",
    "\n",
    "In this case, we have the following transition\n",
    "$$[[0,1,3],1]\\rightarrow [[0,1,3,2],0]$$\n",
    " \n",
    "\n",
    "The `next` method generate the next candidate in breadth, then we should pop the last added element and continue with the following transition \n",
    "$$r_s\\equiv r_c+1\\ \\text{mod }n, \\quad \\text{ and }\\quad c_{k}=c_{k-1}\\wedge(1<< r_s),$$\n",
    "thus $s=[[c_1,\\dots,c_k],r_s]$\n",
    "\n",
    "In this case, a transition like `next` method is \n",
    "$$[[0,1,3],1]\\rightarrow [[0,1,5],2]$$\n",
    "\n",
    "As remark, in the transitions between candidates, we overwrite the information as possible in order to be efficient in memory, that is the reason we use the `backtrack` function inside the class.\n",
    "\n",
    "The `rejection`,`accept` methods, and the recursion allows us to backtrack to candidates where we could continue to explore.\n"
   ]
  },
  {
   "cell_type": "markdown",
   "metadata": {},
   "source": [
    "The name of the class implemented as above is `GrayCode`. In the following cell of code we get a Gray code for target number of bits $n=4$ "
   ]
  },
  {
   "cell_type": "code",
   "execution_count": 8,
   "metadata": {},
   "outputs": [],
   "source": [
    "G = GrayCode(4) # small example\n",
    "G.solve()"
   ]
  },
  {
   "cell_type": "markdown",
   "metadata": {},
   "source": [
    "We print the result for the small instance with the normal binary representation."
   ]
  },
  {
   "cell_type": "code",
   "execution_count": 9,
   "metadata": {},
   "outputs": [
    {
     "name": "stdout",
     "output_type": "stream",
     "text": [
      "0000\n",
      "0001\n",
      "0011\n",
      "0010\n",
      "0110\n",
      "0111\n",
      "0101\n",
      "0100\n",
      "1100\n",
      "1101\n",
      "1111\n",
      "1110\n",
      "1010\n",
      "1011\n",
      "1001\n",
      "1000\n"
     ]
    }
   ],
   "source": [
    "G.print()"
   ]
  },
  {
   "cell_type": "markdown",
   "metadata": {},
   "source": [
    "This implementation reduce the number of recursion calls, therefore, we could do a instance bigger than $n=15$ bits. In the following code, we solve a instance of $n=17$ in 4 minutes"
   ]
  },
  {
   "cell_type": "code",
   "execution_count": 10,
   "metadata": {},
   "outputs": [],
   "source": [
    "n = 15 # try a big number, for n=17 the time is approx 4 minutes, n=15 is not a problem.\n",
    "G_large_instance = GrayCode(n)\n",
    "G_large_instance.solve()"
   ]
  },
  {
   "cell_type": "markdown",
   "metadata": {},
   "source": [
    "# Conclusions"
   ]
  },
  {
   "cell_type": "markdown",
   "metadata": {},
   "source": [
    "The implementation presented here tries to reduce the number of recursion calls in order to allow big instances. The main idea was to avoid loops and try to incorporate in `first`, and `next` an efficient way to explore the candidates tree. The tradeoff was to loose intuition of how to understand the candidate in each problem. \n",
    "\n",
    "The general `backtrack` function is reusable and we incorporate it in the `solve` method of the classes `Partition`, and `GrayCode` in the same way, but of course we initialize in a different way.\n",
    "\n",
    "The main reason to do that was:\n",
    "- Avoid creating copies of the class, i.e., this approach is more efficient than to pass a class as an argument in a recursive function. \n",
    "- Initialize the backtracking algorithm in a correct way. \n",
    "- It is easy to use for the user.\n",
    "\n",
    "As we could see, we reach a relative good performance in instance space for both problems using the proposed `backtrack` function. \n",
    "\n",
    "Points of improvements are:\n",
    "- Enhance the interpretability of the exploration. \n",
    "- Explore in a more efficient way the candidates tree to reach larger instances."
   ]
  }
 ],
 "metadata": {
  "kernelspec": {
   "display_name": "base",
   "language": "python",
   "name": "python3"
  },
  "language_info": {
   "codemirror_mode": {
    "name": "ipython",
    "version": 3
   },
   "file_extension": ".py",
   "mimetype": "text/x-python",
   "name": "python",
   "nbconvert_exporter": "python",
   "pygments_lexer": "ipython3",
   "version": "3.11.4"
  }
 },
 "nbformat": 4,
 "nbformat_minor": 2
}
